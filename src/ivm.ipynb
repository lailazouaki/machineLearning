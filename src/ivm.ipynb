{
 "cells": [
  {
   "cell_type": "markdown",
   "metadata": {},
   "source": [
    "# Projet de Machine Learning"
   ]
  },
  {
   "cell_type": "code",
   "execution_count": 3,
   "metadata": {
    "collapsed": false
   },
   "outputs": [
    {
     "name": "stderr",
     "output_type": "stream",
     "text": [
      "/usr/local/lib/python2.7/site-packages/matplotlib/font_manager.py:273: UserWarning: Matplotlib is building the font cache using fc-list. This may take a moment.\n",
      "  warnings.warn('Matplotlib is building the font cache using fc-list. This may take a moment.')\n"
     ]
    }
   ],
   "source": [
    "from tools import *\n",
    "import math as math\n",
    "%matplotlib inline"
   ]
  },
  {
   "cell_type": "code",
   "execution_count": 4,
   "metadata": {
    "collapsed": false
   },
   "outputs": [],
   "source": [
    "class OptimFunc:\n",
    "    def __init__(self,f=None,grad_f=None,dim=2):\n",
    "        self.f=f\n",
    "        self.grad_f=grad_f\n",
    "        self.dim=dim\n",
    "    def init(self,low=-1,high=1):\n",
    "        return random.random(self.dim)*(high-low)+low\n",
    "\n",
    "class GradientDescent:\n",
    "    def __init__(self,optim_f,eps=1e-4,max_iter=5000):\n",
    "        self.optim_f=optim_f\n",
    "        self.eps=eps\n",
    "        self.max_iter=max_iter\n",
    "    def reset(self):\n",
    "        self.i=0\n",
    "        self.w = self.optim_f.init()\n",
    "        self.log_w=np.array(self.w)\n",
    "        self.log_f=np.array(self.optim_f.f(self.w))\n",
    "        self.log_grad=np.array(self.optim_f.grad_f(self.w))\n",
    "    def optimize(self,reset=True):\n",
    "        if reset:\n",
    "            self.reset()\n",
    "        while not self.stop():\n",
    "            self.w = self.w - self.get_eps()*self.optim_f.grad_f(self.w)\n",
    "            self.log_w=np.vstack((self.log_w,self.w))\n",
    "            self.log_f=np.vstack((self.log_f,self.optim_f.f(self.w)))\n",
    "            self.log_grad=np.vstack((self.log_grad,self.optim_f.grad_f(self.w)))\n",
    "            #if self.i%200==0:\n",
    "                #print(self.i,\" iterations \",self.log_f[self.i],self.log_grad[self.i],self.log_w[self.i])\n",
    "                #,self.score(self.data,self.y),self.w.dot(self.w))\n",
    "            self.i+=1\n",
    "        print(\"Valeur de f: \",self.log_f[self.i],\"\\nValeur du gradient: \",self.log_grad[self.i],\n",
    "                  \"\\nValeur de w: \" ,self.log_w[self.i])\n",
    "    def stop(self):\n",
    "        return (self.i>2) and (self.max_iter and (self.i>self.max_iter))\n",
    "    def get_eps(self):\n",
    "        return self.eps\n",
    "\n",
    "def gen_arti(centerx=1,centery=1,sigma=0.1,nbex=1000,data_type=0,eps=0.02):\n",
    "    \"\"\" Generateur de donnees,\n",
    "        :param centerx: centre des gaussiennes\n",
    "        :param centery:\n",
    "        :param sigma: des gaussiennes\n",
    "        :param nbex: nombre d'exemples\n",
    "        :param data_type: 0: melange 2 gaussiennes, 1: melange 4 gaussiennes, 2:echequier\n",
    "        :param eps: bruit dans les donnees\n",
    "        :return: data matrice 2d des donnnes,y etiquette des donnnees\n",
    "    \"\"\"\n",
    "    if data_type==0:\n",
    "         #melange de 2 gaussiennes\n",
    "         xpos=np.random.multivariate_normal([centerx,centery],np.diag([sigma,sigma]),nbex//2)\n",
    "         xneg=np.random.multivariate_normal([-centerx,-centery],np.diag([sigma,sigma]),nbex//2)\n",
    "         data=np.vstack((xpos,xneg))\n",
    "         y=np.hstack((np.ones(nbex//2),-np.ones(nbex//2)))\n",
    "    if data_type==1:\n",
    "        #melange de 4 gaussiennes\n",
    "        xpos=np.vstack((np.random.multivariate_normal([centerx,centery],np.diag([sigma,sigma]),nbex//4),\n",
    "                        np.random.multivariate_normal([-centerx,-centery],np.diag([sigma,sigma]),nbex//4)))\n",
    "        xneg=np.vstack((np.random.multivariate_normal([-centerx,centery],np.diag([sigma,sigma]),nbex//4),\n",
    "                        np.random.multivariate_normal([centerx,-centery],np.diag([sigma,sigma]),nbex//4)))\n",
    "        data=np.vstack((xpos,xneg))\n",
    "        y=np.hstack((np.ones(nbex//2),-np.ones(nbex//2)))\n",
    "\n",
    "    if data_type==2:\n",
    "        #echiquier\n",
    "        data=np.reshape(np.random.uniform(-4,4,2*nbex),(nbex,2))\n",
    "        y=np.ceil(data[:,0])+np.ceil(data[:,1])\n",
    "        y=2*(y % 2)-1\n",
    "    # un peu de bruit\n",
    "    data[:,0]+=np.random.normal(0,eps,nbex)\n",
    "    data[:,1]+=np.random.normal(0,eps,nbex)\n",
    "    # on mélange les données\n",
    "    idx = np.random.permutation((range(y.size)))\n",
    "    data=data[idx,:]\n",
    "    y=y[idx]\n",
    "    return data,y\n",
    "\n",
    "    "
   ]
  },
  {
   "cell_type": "code",
   "execution_count": 23,
   "metadata": {
    "collapsed": false
   },
   "outputs": [],
   "source": [
    "def f_K(x, y, sigma=1):\n",
    "    return math.exp(-pow(np.linalg.norm(x-y), 2)/(2*pow(sigma,2)))\n",
    "\n",
    "def H(f, a, Kql, lamda=3):\n",
    "    Kql = np.asmatrix(np.asarray(Kql))\n",
    "    f = np.asarray(f)\n",
    "    a = np.asarray(a)\n",
    "    \n",
    "    return sum(y*f - np.log(1+np.exp(f)))+lamda/2 * a.T * Kql * a\n",
    "\n",
    "def grad_H(f, a, Kal,Kql, y, lamda):\n",
    "    Kal = np.asmatrix(np.asarray(Kal))\n",
    "    grad = []\n",
    "    print a.shape\n",
    "    print Kql.shape\n",
    "    print (Kql*a).shape # <<<<<<<<<<<<<<<- probleme, ça devrait être un vecteur\n",
    "    for i in range(0, Kal.shape[0]):\n",
    "        grad.append(Kal[i,i]*np.exp(sum(Kal[i,:]*a))/(1+np.exp(sum(Kal[i,:]*a))))\n",
    "        \n",
    "    return -Kal.T*y+lamda*Kql*a+np.asarray(grad)\n",
    "\n",
    "def ivm(dataset, y_array, lamda):\n",
    "\n",
    "    S = []\n",
    "    f = []\n",
    "    N = dataset.shape[0]\n",
    "    a = np.zeros((N,1))\n",
    "    K = np.zeros((N,N))\n",
    "    Kql= np.zeros((N,N))\n",
    "    Kal = np.zeros((N,N))\n",
    "    \n",
    "    for i,x in enumerate(dataset):\n",
    "        for j,y in enumerate(dataset):\n",
    "            K[i,j] = f_K(x,y)\n",
    "                \n",
    "    a[0] = np.random.randint(0,1)\n",
    "    for l,x in enumerate(dataset):\n",
    "        fl = a[0]*f_K(x, x)\n",
    "        for j,e in enumerate(S):\n",
    "            fl += a[j]*K(x,e)\n",
    "    \n",
    "        f.append(fl)\n",
    "\n",
    "    a = np.asarray(a)\n",
    "\n",
    "    for i,x in enumerate(S):\n",
    "        for j,y in enumerate(S):\n",
    "            Kql[i,j] = f_K(x,y)\n",
    "            \n",
    "    for i,x in enumerate(dataset):\n",
    "        for j,y in enumerate(S):\n",
    "            Kal[i,j] = f_K(x,y)\n",
    "    \n",
    "    h = H(f,a,Kql,lamda)\n",
    "    grad = grad_H(f, a, Kal,Kql, y_array, lamda)\n",
    "\n",
    "    opti = OptimFunc(h, grad, 1)\n",
    "    winners = GradientDescent(opti)\n",
    "    winners.optimize()\n",
    "    plt.figure()\n",
    "    plt.plot(gd_xcosx.log_w)\n",
    "    plt.show()"
   ]
  },
  {
   "cell_type": "code",
   "execution_count": 24,
   "metadata": {
    "collapsed": false
   },
   "outputs": [
    {
     "name": "stdout",
     "output_type": "stream",
     "text": [
      "(1000, 1)\n",
      "(1000, 1000)\n",
      "(1000, 1000)\n"
     ]
    },
    {
     "ename": "ValueError",
     "evalue": "shape too large to be a matrix.",
     "output_type": "error",
     "traceback": [
      "\u001b[0;31m---------------------------------------------------------------------------\u001b[0m",
      "\u001b[0;31mValueError\u001b[0m                                Traceback (most recent call last)",
      "\u001b[0;32m<ipython-input-24-24c3c43a631c>\u001b[0m in \u001b[0;36m<module>\u001b[0;34m()\u001b[0m\n\u001b[1;32m      1\u001b[0m \u001b[0mdata\u001b[0m\u001b[0;34m,\u001b[0m \u001b[0my\u001b[0m \u001b[0;34m=\u001b[0m \u001b[0mgen_arti\u001b[0m\u001b[0;34m(\u001b[0m\u001b[0;34m)\u001b[0m\u001b[0;34m\u001b[0m\u001b[0m\n\u001b[1;32m      2\u001b[0m \u001b[0my\u001b[0m \u001b[0;34m=\u001b[0m \u001b[0my\u001b[0m\u001b[0;34m.\u001b[0m\u001b[0mreshape\u001b[0m\u001b[0;34m(\u001b[0m\u001b[0;34m(\u001b[0m\u001b[0my\u001b[0m\u001b[0;34m.\u001b[0m\u001b[0mshape\u001b[0m\u001b[0;34m[\u001b[0m\u001b[0;36m0\u001b[0m\u001b[0;34m]\u001b[0m\u001b[0;34m,\u001b[0m \u001b[0;36m1\u001b[0m\u001b[0;34m)\u001b[0m\u001b[0;34m)\u001b[0m\u001b[0;34m\u001b[0m\u001b[0m\n\u001b[0;32m----> 3\u001b[0;31m \u001b[0mivm\u001b[0m\u001b[0;34m(\u001b[0m\u001b[0mdata\u001b[0m\u001b[0;34m,\u001b[0m \u001b[0my\u001b[0m\u001b[0;34m,\u001b[0m \u001b[0;36m2\u001b[0m\u001b[0;34m)\u001b[0m\u001b[0;34m\u001b[0m\u001b[0m\n\u001b[0m",
      "\u001b[0;32m<ipython-input-23-27f8f4fa0b74>\u001b[0m in \u001b[0;36mivm\u001b[0;34m(dataset, y_array, lamda)\u001b[0m\n\u001b[1;32m     53\u001b[0m \u001b[0;34m\u001b[0m\u001b[0m\n\u001b[1;32m     54\u001b[0m     \u001b[0mh\u001b[0m \u001b[0;34m=\u001b[0m \u001b[0mH\u001b[0m\u001b[0;34m(\u001b[0m\u001b[0mf\u001b[0m\u001b[0;34m,\u001b[0m\u001b[0ma\u001b[0m\u001b[0;34m,\u001b[0m\u001b[0mKql\u001b[0m\u001b[0;34m,\u001b[0m\u001b[0mlamda\u001b[0m\u001b[0;34m)\u001b[0m\u001b[0;34m\u001b[0m\u001b[0m\n\u001b[0;32m---> 55\u001b[0;31m     \u001b[0mgrad\u001b[0m \u001b[0;34m=\u001b[0m \u001b[0mgrad_H\u001b[0m\u001b[0;34m(\u001b[0m\u001b[0mf\u001b[0m\u001b[0;34m,\u001b[0m \u001b[0ma\u001b[0m\u001b[0;34m,\u001b[0m \u001b[0mKal\u001b[0m\u001b[0;34m,\u001b[0m\u001b[0mKql\u001b[0m\u001b[0;34m,\u001b[0m \u001b[0my_array\u001b[0m\u001b[0;34m,\u001b[0m \u001b[0mlamda\u001b[0m\u001b[0;34m)\u001b[0m\u001b[0;34m\u001b[0m\u001b[0m\n\u001b[0m\u001b[1;32m     56\u001b[0m \u001b[0;34m\u001b[0m\u001b[0m\n\u001b[1;32m     57\u001b[0m     \u001b[0mopti\u001b[0m \u001b[0;34m=\u001b[0m \u001b[0mOptimFunc\u001b[0m\u001b[0;34m(\u001b[0m\u001b[0mh\u001b[0m\u001b[0;34m,\u001b[0m \u001b[0mgrad\u001b[0m\u001b[0;34m,\u001b[0m \u001b[0;36m1\u001b[0m\u001b[0;34m)\u001b[0m\u001b[0;34m\u001b[0m\u001b[0m\n",
      "\u001b[0;32m<ipython-input-23-27f8f4fa0b74>\u001b[0m in \u001b[0;36mgrad_H\u001b[0;34m(f, a, Kal, Kql, y, lamda)\u001b[0m\n\u001b[1;32m     18\u001b[0m         \u001b[0mgrad\u001b[0m\u001b[0;34m.\u001b[0m\u001b[0mappend\u001b[0m\u001b[0;34m(\u001b[0m\u001b[0mKal\u001b[0m\u001b[0;34m[\u001b[0m\u001b[0mi\u001b[0m\u001b[0;34m,\u001b[0m\u001b[0mi\u001b[0m\u001b[0;34m]\u001b[0m\u001b[0;34m*\u001b[0m\u001b[0mnp\u001b[0m\u001b[0;34m.\u001b[0m\u001b[0mexp\u001b[0m\u001b[0;34m(\u001b[0m\u001b[0msum\u001b[0m\u001b[0;34m(\u001b[0m\u001b[0mKal\u001b[0m\u001b[0;34m[\u001b[0m\u001b[0mi\u001b[0m\u001b[0;34m,\u001b[0m\u001b[0;34m:\u001b[0m\u001b[0;34m]\u001b[0m\u001b[0;34m*\u001b[0m\u001b[0ma\u001b[0m\u001b[0;34m)\u001b[0m\u001b[0;34m)\u001b[0m\u001b[0;34m/\u001b[0m\u001b[0;34m(\u001b[0m\u001b[0;36m1\u001b[0m\u001b[0;34m+\u001b[0m\u001b[0mnp\u001b[0m\u001b[0;34m.\u001b[0m\u001b[0mexp\u001b[0m\u001b[0;34m(\u001b[0m\u001b[0msum\u001b[0m\u001b[0;34m(\u001b[0m\u001b[0mKal\u001b[0m\u001b[0;34m[\u001b[0m\u001b[0mi\u001b[0m\u001b[0;34m,\u001b[0m\u001b[0;34m:\u001b[0m\u001b[0;34m]\u001b[0m\u001b[0;34m*\u001b[0m\u001b[0ma\u001b[0m\u001b[0;34m)\u001b[0m\u001b[0;34m)\u001b[0m\u001b[0;34m)\u001b[0m\u001b[0;34m)\u001b[0m\u001b[0;34m\u001b[0m\u001b[0m\n\u001b[1;32m     19\u001b[0m \u001b[0;34m\u001b[0m\u001b[0m\n\u001b[0;32m---> 20\u001b[0;31m     \u001b[0;32mreturn\u001b[0m \u001b[0;34m-\u001b[0m\u001b[0mKal\u001b[0m\u001b[0;34m.\u001b[0m\u001b[0mT\u001b[0m\u001b[0;34m*\u001b[0m\u001b[0my\u001b[0m\u001b[0;34m+\u001b[0m\u001b[0mlamda\u001b[0m\u001b[0;34m*\u001b[0m\u001b[0mKql\u001b[0m\u001b[0;34m*\u001b[0m\u001b[0ma\u001b[0m\u001b[0;34m+\u001b[0m\u001b[0mnp\u001b[0m\u001b[0;34m.\u001b[0m\u001b[0masarray\u001b[0m\u001b[0;34m(\u001b[0m\u001b[0mgrad\u001b[0m\u001b[0;34m)\u001b[0m\u001b[0;34m\u001b[0m\u001b[0m\n\u001b[0m\u001b[1;32m     21\u001b[0m \u001b[0;34m\u001b[0m\u001b[0m\n\u001b[1;32m     22\u001b[0m \u001b[0;32mdef\u001b[0m \u001b[0mivm\u001b[0m\u001b[0;34m(\u001b[0m\u001b[0mdataset\u001b[0m\u001b[0;34m,\u001b[0m \u001b[0my_array\u001b[0m\u001b[0;34m,\u001b[0m \u001b[0mlamda\u001b[0m\u001b[0;34m)\u001b[0m\u001b[0;34m:\u001b[0m\u001b[0;34m\u001b[0m\u001b[0m\n",
      "\u001b[0;32m/usr/local/lib/python2.7/site-packages/numpy/matrixlib/defmatrix.pyc\u001b[0m in \u001b[0;36m__array_finalize__\u001b[0;34m(self, obj)\u001b[0m\n\u001b[1;32m    303\u001b[0m                 \u001b[0;32mreturn\u001b[0m\u001b[0;34m\u001b[0m\u001b[0m\n\u001b[1;32m    304\u001b[0m             \u001b[0;32melif\u001b[0m \u001b[0;34m(\u001b[0m\u001b[0mndim\u001b[0m \u001b[0;34m>\u001b[0m \u001b[0;36m2\u001b[0m\u001b[0;34m)\u001b[0m\u001b[0;34m:\u001b[0m\u001b[0;34m\u001b[0m\u001b[0m\n\u001b[0;32m--> 305\u001b[0;31m                 \u001b[0;32mraise\u001b[0m \u001b[0mValueError\u001b[0m\u001b[0;34m(\u001b[0m\u001b[0;34m\"shape too large to be a matrix.\"\u001b[0m\u001b[0;34m)\u001b[0m\u001b[0;34m\u001b[0m\u001b[0m\n\u001b[0m\u001b[1;32m    306\u001b[0m         \u001b[0;32melse\u001b[0m\u001b[0;34m:\u001b[0m\u001b[0;34m\u001b[0m\u001b[0m\n\u001b[1;32m    307\u001b[0m             \u001b[0mnewshape\u001b[0m \u001b[0;34m=\u001b[0m \u001b[0mself\u001b[0m\u001b[0;34m.\u001b[0m\u001b[0mshape\u001b[0m\u001b[0;34m\u001b[0m\u001b[0m\n",
      "\u001b[0;31mValueError\u001b[0m: shape too large to be a matrix."
     ]
    }
   ],
   "source": [
    "data, y = gen_arti()\n",
    "y = y.reshape((y.shape[0], 1))\n",
    "ivm(data, y, 2)"
   ]
  },
  {
   "cell_type": "code",
   "execution_count": null,
   "metadata": {
    "collapsed": true
   },
   "outputs": [],
   "source": []
  }
 ],
 "metadata": {
  "kernelspec": {
   "display_name": "Python 2",
   "language": "python",
   "name": "python2"
  },
  "language_info": {
   "codemirror_mode": {
    "name": "ipython",
    "version": 2
   },
   "file_extension": ".py",
   "mimetype": "text/x-python",
   "name": "python",
   "nbconvert_exporter": "python",
   "pygments_lexer": "ipython2",
   "version": "2.7.11"
  }
 },
 "nbformat": 4,
 "nbformat_minor": 0
}
