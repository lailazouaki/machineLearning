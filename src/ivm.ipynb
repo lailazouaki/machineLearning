{
 "cells": [
  {
   "cell_type": "markdown",
   "metadata": {},
   "source": [
    "# Projet de Machine Learning"
   ]
  },
  {
   "cell_type": "code",
   "execution_count": 1,
   "metadata": {
    "collapsed": false
   },
   "outputs": [
    {
     "name": "stderr",
     "output_type": "stream",
     "text": [
      "/usr/local/lib/python2.7/site-packages/matplotlib/font_manager.py:273: UserWarning: Matplotlib is building the font cache using fc-list. This may take a moment.\n",
      "  warnings.warn('Matplotlib is building the font cache using fc-list. This may take a moment.')\n"
     ]
    }
   ],
   "source": [
    "from tools import *\n",
    "import math as math\n",
    "%matplotlib inline"
   ]
  },
  {
   "cell_type": "code",
   "execution_count": 2,
   "metadata": {
    "collapsed": false
   },
   "outputs": [],
   "source": [
    "class OptimFunc:\n",
    "    def __init__(self,f=None,grad_f=None,dim=2):\n",
    "        self.f=f\n",
    "        self.grad_f=grad_f\n",
    "        self.dim=dim\n",
    "    def init(self,low=-1,high=1):\n",
    "        return random.random(self.dim)*(high-low)+low\n",
    "\n",
    "class GradientDescent:\n",
    "    def __init__(self,optim_f,eps=1e-4,max_iter=5000):\n",
    "        self.optim_f=optim_f\n",
    "        self.eps=eps\n",
    "        self.max_iter=max_iter\n",
    "    def reset(self):\n",
    "        self.i=0\n",
    "        self.w = self.optim_f.init()\n",
    "        self.log_w=np.array(self.w)\n",
    "        self.log_f=np.array(self.optim_f.f(self.w))\n",
    "        self.log_grad=np.array(self.optim_f.grad_f(self.w))\n",
    "    def optimize(self,reset=True):\n",
    "        if reset:\n",
    "            self.reset()\n",
    "        while not self.stop():\n",
    "            self.w = self.w - self.get_eps()*self.optim_f.grad_f(self.w)\n",
    "            self.log_w=np.vstack((self.log_w,self.w))\n",
    "            self.log_f=np.vstack((self.log_f,self.optim_f.f(self.w)))\n",
    "            self.log_grad=np.vstack((self.log_grad,self.optim_f.grad_f(self.w)))\n",
    "            #if self.i%200==0:\n",
    "                #print(self.i,\" iterations \",self.log_f[self.i],self.log_grad[self.i],self.log_w[self.i])\n",
    "                #,self.score(self.data,self.y),self.w.dot(self.w))\n",
    "            self.i+=1\n",
    "        print(\"Valeur de f: \",self.log_f[self.i],\"\\nValeur du gradient: \",self.log_grad[self.i],\n",
    "                  \"\\nValeur de w: \" ,self.log_w[self.i])\n",
    "    def stop(self):\n",
    "        return (self.i>2) and (self.max_iter and (self.i>self.max_iter))\n",
    "    def get_eps(self):\n",
    "        return self.eps\n",
    "\n",
    "def gen_arti(centerx=1,centery=1,sigma=0.1,nbex=1000,data_type=0,eps=0.02):\n",
    "    \"\"\" Generateur de donnees,\n",
    "        :param centerx: centre des gaussiennes\n",
    "        :param centery:\n",
    "        :param sigma: des gaussiennes\n",
    "        :param nbex: nombre d'exemples\n",
    "        :param data_type: 0: melange 2 gaussiennes, 1: melange 4 gaussiennes, 2:echequier\n",
    "        :param eps: bruit dans les donnees\n",
    "        :return: data matrice 2d des donnnes,y etiquette des donnnees\n",
    "    \"\"\"\n",
    "    if data_type==0:\n",
    "         #melange de 2 gaussiennes\n",
    "         xpos=np.random.multivariate_normal([centerx,centery],np.diag([sigma,sigma]),nbex//2)\n",
    "         xneg=np.random.multivariate_normal([-centerx,-centery],np.diag([sigma,sigma]),nbex//2)\n",
    "         data=np.vstack((xpos,xneg))\n",
    "         y=np.hstack((np.ones(nbex//2),-np.ones(nbex//2)))\n",
    "    if data_type==1:\n",
    "        #melange de 4 gaussiennes\n",
    "        xpos=np.vstack((np.random.multivariate_normal([centerx,centery],np.diag([sigma,sigma]),nbex//4),\n",
    "                        np.random.multivariate_normal([-centerx,-centery],np.diag([sigma,sigma]),nbex//4)))\n",
    "        xneg=np.vstack((np.random.multivariate_normal([-centerx,centery],np.diag([sigma,sigma]),nbex//4),\n",
    "                        np.random.multivariate_normal([centerx,-centery],np.diag([sigma,sigma]),nbex//4)))\n",
    "        data=np.vstack((xpos,xneg))\n",
    "        y=np.hstack((np.ones(nbex//2),-np.ones(nbex//2)))\n",
    "\n",
    "    if data_type==2:\n",
    "        #echiquier\n",
    "        data=np.reshape(np.random.uniform(-4,4,2*nbex),(nbex,2))\n",
    "        y=np.ceil(data[:,0])+np.ceil(data[:,1])\n",
    "        y=2*(y % 2)-1\n",
    "    # un peu de bruit\n",
    "    data[:,0]+=np.random.normal(0,eps,nbex)\n",
    "    data[:,1]+=np.random.normal(0,eps,nbex)\n",
    "    # on mélange les données\n",
    "    idx = np.random.permutation((range(y.size)))\n",
    "    data=data[idx,:]\n",
    "    y=y[idx]\n",
    "    return data,y\n",
    "\n",
    "    "
   ]
  },
  {
   "cell_type": "code",
   "execution_count": 52,
   "metadata": {
    "collapsed": false
   },
   "outputs": [],
   "source": [
    "def f_K(x, y, sigma=1):\n",
    "    return math.exp(-pow(np.linalg.norm(x-y), 2)/(2*pow(sigma,2)))\n",
    "\n",
    "def HA(a, S):\n",
    "\n",
    "    Kql= np.zeros((N,N))\n",
    "    Kal = np.zeros((N,N))\n",
    "    \n",
    "    a[0] = np.random.randint(0,1)\n",
    "    for l,x in enumerate(dataset):\n",
    "        fl = a[0]*f_K(x, x)\n",
    "        for j,e in enumerate(S):\n",
    "            fl += a[j]*K(x,e)\n",
    "    \n",
    "        f.append(fl)\n",
    "\n",
    "    for i,x in enumerate(S):\n",
    "        for j,y in enumerate(S):\n",
    "            Kql[i,j] = f_K(x,y)\n",
    "            \n",
    "    Kql = np.asmatrix(np.asarray(Kql))\n",
    "    f = np.asarray(f)\n",
    "    a = np.asarray(a)\n",
    "    \n",
    "    return sum(y*f - np.log(1+np.exp(f)))+lamda/2 * a.T * Kql * a\n",
    "\n",
    "def H(x, S, a_prec):\n",
    "    \n",
    "    a = a_optim(x, S, a_prec) \n",
    "    return HA(a, S)\n",
    "\n",
    "def a_optim(x, S, a_prec):\n",
    "    \n",
    "    f = K*a_prec\n",
    "    p = np.exp(f).dot(1/(1+np.exp(f))) <<<<<- #probleme\n",
    "    print \"p\", p.shape # (1000,1000)\n",
    "    x = p*(1-p)\n",
    "    print \"x\", x.shape\n",
    "    W = np.diag(x).reshape((N,N))\n",
    "    print \"W\", W.shape\n",
    "    print np.linalg.inv(W)\n",
    "    z = K*a_prec+np.linalg.inv(W)*(y-p)\n",
    "    return np.linalg.inv(K.T*W*K + lamda*K) * K.T*W*z \n",
    "\n",
    "def ivm(dataset, y):\n",
    "\n",
    "    N = dataset.shape[0]\n",
    "    a = np.zeros((N,1))\n",
    "    S = []\n",
    "    \n",
    "    lamda = 3\n",
    "    \n",
    "    Hk = 1\n",
    "    Hk_1 = 0\n",
    "\n",
    "    while abs(Hk-Hk_1)/Hk > 0.01:\n",
    "    \n",
    "        h = np.zeros((1, N))\n",
    "        for i in range(N):\n",
    "            S_b = S\n",
    "            S_b.append(dataset[i])\n",
    "            h[i] = H(dataset[i], S_b, a)\n",
    "\n",
    "        xl_opt = np.argmin(h)\n",
    "        \n",
    "        Hk_1 = Hk\n",
    "        Hk = h[xl_opt]\n",
    "        \n",
    "        print xl_opt\n",
    "        print Hk\n",
    "        print Hk_1\n",
    "        print dataset[xl_opt,:]\n",
    "        \n",
    "        S = S.append(dataset[xl_opt, :])\n",
    "        np.delete(dataset, xl_opt)\n",
    "\n",
    "        # update de a\n",
    "        f = K*a_prec\n",
    "        p = np.exp(f).dot(1/(1+np.exp(f)))\n",
    "        x = p*(1-p)\n",
    "        W = np.diag(x)\n",
    "        z = K*a_prec+np.linalg.inv(W)*(y-p)\n",
    "        a = np.linalg.inv(K.T*W*K + lamda*K) * K.T*W*z \n",
    "        \n",
    "    print S\n"
   ]
  },
  {
   "cell_type": "code",
   "execution_count": 53,
   "metadata": {
    "collapsed": false
   },
   "outputs": [
    {
     "name": "stdout",
     "output_type": "stream",
     "text": [
      "p (1000, 1000)\n",
      "x (1000, 1000)\n"
     ]
    },
    {
     "ename": "ValueError",
     "evalue": "total size of new array must be unchanged",
     "output_type": "error",
     "traceback": [
      "\u001b[0;31m---------------------------------------------------------------------------\u001b[0m",
      "\u001b[0;31mValueError\u001b[0m                                Traceback (most recent call last)",
      "\u001b[0;32m<ipython-input-53-1b84da9f6326>\u001b[0m in \u001b[0;36m<module>\u001b[0;34m()\u001b[0m\n\u001b[1;32m      7\u001b[0m         \u001b[0mK\u001b[0m\u001b[0;34m[\u001b[0m\u001b[0mi\u001b[0m\u001b[0;34m,\u001b[0m\u001b[0mj\u001b[0m\u001b[0;34m]\u001b[0m \u001b[0;34m=\u001b[0m \u001b[0mf_K\u001b[0m\u001b[0;34m(\u001b[0m\u001b[0mx\u001b[0m\u001b[0;34m,\u001b[0m\u001b[0my\u001b[0m\u001b[0;34m)\u001b[0m\u001b[0;34m\u001b[0m\u001b[0m\n\u001b[1;32m      8\u001b[0m \u001b[0my\u001b[0m \u001b[0;34m=\u001b[0m \u001b[0my\u001b[0m\u001b[0;34m.\u001b[0m\u001b[0mreshape\u001b[0m\u001b[0;34m(\u001b[0m\u001b[0;34m(\u001b[0m\u001b[0my\u001b[0m\u001b[0;34m.\u001b[0m\u001b[0mshape\u001b[0m\u001b[0;34m[\u001b[0m\u001b[0;36m0\u001b[0m\u001b[0;34m]\u001b[0m\u001b[0;34m,\u001b[0m \u001b[0;36m1\u001b[0m\u001b[0;34m)\u001b[0m\u001b[0;34m)\u001b[0m\u001b[0;34m\u001b[0m\u001b[0m\n\u001b[0;32m----> 9\u001b[0;31m \u001b[0mivm\u001b[0m\u001b[0;34m(\u001b[0m\u001b[0mdata\u001b[0m\u001b[0;34m,\u001b[0m \u001b[0my\u001b[0m\u001b[0;34m)\u001b[0m\u001b[0;34m\u001b[0m\u001b[0m\n\u001b[0m",
      "\u001b[0;32m<ipython-input-52-eb5782b9d078>\u001b[0m in \u001b[0;36mivm\u001b[0;34m(dataset, y)\u001b[0m\n\u001b[1;32m     60\u001b[0m             \u001b[0mS_b\u001b[0m \u001b[0;34m=\u001b[0m \u001b[0mS\u001b[0m\u001b[0;34m\u001b[0m\u001b[0m\n\u001b[1;32m     61\u001b[0m             \u001b[0mS_b\u001b[0m\u001b[0;34m.\u001b[0m\u001b[0mappend\u001b[0m\u001b[0;34m(\u001b[0m\u001b[0mdataset\u001b[0m\u001b[0;34m[\u001b[0m\u001b[0mi\u001b[0m\u001b[0;34m]\u001b[0m\u001b[0;34m)\u001b[0m\u001b[0;34m\u001b[0m\u001b[0m\n\u001b[0;32m---> 62\u001b[0;31m             \u001b[0mh\u001b[0m\u001b[0;34m[\u001b[0m\u001b[0mi\u001b[0m\u001b[0;34m]\u001b[0m \u001b[0;34m=\u001b[0m \u001b[0mH\u001b[0m\u001b[0;34m(\u001b[0m\u001b[0mdataset\u001b[0m\u001b[0;34m[\u001b[0m\u001b[0mi\u001b[0m\u001b[0;34m]\u001b[0m\u001b[0;34m,\u001b[0m \u001b[0mS_b\u001b[0m\u001b[0;34m,\u001b[0m \u001b[0ma\u001b[0m\u001b[0;34m)\u001b[0m\u001b[0;34m\u001b[0m\u001b[0m\n\u001b[0m\u001b[1;32m     63\u001b[0m \u001b[0;34m\u001b[0m\u001b[0m\n\u001b[1;32m     64\u001b[0m         \u001b[0mxl_opt\u001b[0m \u001b[0;34m=\u001b[0m \u001b[0mnp\u001b[0m\u001b[0;34m.\u001b[0m\u001b[0margmin\u001b[0m\u001b[0;34m(\u001b[0m\u001b[0mh\u001b[0m\u001b[0;34m)\u001b[0m\u001b[0;34m\u001b[0m\u001b[0m\n",
      "\u001b[0;32m<ipython-input-52-eb5782b9d078>\u001b[0m in \u001b[0;36mH\u001b[0;34m(x, S, a_prec)\u001b[0m\n\u001b[1;32m     27\u001b[0m \u001b[0;32mdef\u001b[0m \u001b[0mH\u001b[0m\u001b[0;34m(\u001b[0m\u001b[0mx\u001b[0m\u001b[0;34m,\u001b[0m \u001b[0mS\u001b[0m\u001b[0;34m,\u001b[0m \u001b[0ma_prec\u001b[0m\u001b[0;34m)\u001b[0m\u001b[0;34m:\u001b[0m\u001b[0;34m\u001b[0m\u001b[0m\n\u001b[1;32m     28\u001b[0m \u001b[0;34m\u001b[0m\u001b[0m\n\u001b[0;32m---> 29\u001b[0;31m     \u001b[0ma\u001b[0m \u001b[0;34m=\u001b[0m \u001b[0ma_optim\u001b[0m\u001b[0;34m(\u001b[0m\u001b[0mx\u001b[0m\u001b[0;34m,\u001b[0m \u001b[0mS\u001b[0m\u001b[0;34m,\u001b[0m \u001b[0ma_prec\u001b[0m\u001b[0;34m)\u001b[0m\u001b[0;34m\u001b[0m\u001b[0m\n\u001b[0m\u001b[1;32m     30\u001b[0m     \u001b[0;32mreturn\u001b[0m \u001b[0mHA\u001b[0m\u001b[0;34m(\u001b[0m\u001b[0ma\u001b[0m\u001b[0;34m,\u001b[0m \u001b[0mS\u001b[0m\u001b[0;34m)\u001b[0m\u001b[0;34m\u001b[0m\u001b[0m\n\u001b[1;32m     31\u001b[0m \u001b[0;34m\u001b[0m\u001b[0m\n",
      "\u001b[0;32m<ipython-input-52-eb5782b9d078>\u001b[0m in \u001b[0;36ma_optim\u001b[0;34m(x, S, a_prec)\u001b[0m\n\u001b[1;32m     37\u001b[0m     \u001b[0mx\u001b[0m \u001b[0;34m=\u001b[0m \u001b[0mp\u001b[0m\u001b[0;34m*\u001b[0m\u001b[0;34m(\u001b[0m\u001b[0;36m1\u001b[0m\u001b[0;34m-\u001b[0m\u001b[0mp\u001b[0m\u001b[0;34m)\u001b[0m\u001b[0;34m\u001b[0m\u001b[0m\n\u001b[1;32m     38\u001b[0m     \u001b[0;32mprint\u001b[0m \u001b[0;34m\"x\"\u001b[0m\u001b[0;34m,\u001b[0m \u001b[0mx\u001b[0m\u001b[0;34m.\u001b[0m\u001b[0mshape\u001b[0m\u001b[0;34m\u001b[0m\u001b[0m\n\u001b[0;32m---> 39\u001b[0;31m     \u001b[0mW\u001b[0m \u001b[0;34m=\u001b[0m \u001b[0mnp\u001b[0m\u001b[0;34m.\u001b[0m\u001b[0mdiag\u001b[0m\u001b[0;34m(\u001b[0m\u001b[0mx\u001b[0m\u001b[0;34m)\u001b[0m\u001b[0;34m.\u001b[0m\u001b[0mreshape\u001b[0m\u001b[0;34m(\u001b[0m\u001b[0;34m(\u001b[0m\u001b[0mN\u001b[0m\u001b[0;34m,\u001b[0m\u001b[0mN\u001b[0m\u001b[0;34m)\u001b[0m\u001b[0;34m)\u001b[0m\u001b[0;34m\u001b[0m\u001b[0m\n\u001b[0m\u001b[1;32m     40\u001b[0m     \u001b[0;32mprint\u001b[0m \u001b[0;34m\"W\"\u001b[0m\u001b[0;34m,\u001b[0m \u001b[0mW\u001b[0m\u001b[0;34m.\u001b[0m\u001b[0mshape\u001b[0m\u001b[0;34m\u001b[0m\u001b[0m\n\u001b[1;32m     41\u001b[0m     \u001b[0;32mprint\u001b[0m \u001b[0mnp\u001b[0m\u001b[0;34m.\u001b[0m\u001b[0mlinalg\u001b[0m\u001b[0;34m.\u001b[0m\u001b[0minv\u001b[0m\u001b[0;34m(\u001b[0m\u001b[0mW\u001b[0m\u001b[0;34m)\u001b[0m\u001b[0;34m\u001b[0m\u001b[0m\n",
      "\u001b[0;31mValueError\u001b[0m: total size of new array must be unchanged"
     ]
    }
   ],
   "source": [
    "data, y = gen_arti()\n",
    "N = data.shape[0]\n",
    "K = np.zeros((N,N))\n",
    "lamda=1\n",
    "for i,x in enumerate(data):\n",
    "    for j,y in enumerate(data):\n",
    "        K[i,j] = f_K(x,y)\n",
    "y = y.reshape((y.shape[0], 1))\n",
    "ivm(data, y)"
   ]
  },
  {
   "cell_type": "code",
   "execution_count": null,
   "metadata": {
    "collapsed": true
   },
   "outputs": [],
   "source": [
    "def grad_HA(a, S):\n",
    "    \n",
    "    K = np.zeros((N,N))\n",
    "    Kql= np.zeros((N,N))\n",
    "    Kal = np.zeros((N,N))\n",
    "    \n",
    "    for i,x in enumerate(dataset):\n",
    "        for j,y in enumerate(dataset):\n",
    "            K[i,j] = f_K(x,y)\n",
    "                \n",
    "    a[0] = np.random.randint(0,1)\n",
    "    for l,x in enumerate(dataset):\n",
    "        fl = a[0]*f_K(x, x)\n",
    "        for j,e in enumerate(S):\n",
    "            fl += a[j]*K(x,e)\n",
    "    \n",
    "        f.append(fl)\n",
    "\n",
    "    a = np.asarray(a)\n",
    "\n",
    "    for i,x in enumerate(S):\n",
    "        for j,y in enumerate(S):\n",
    "            Kql[i,j] = f_K(x,y)\n",
    "            \n",
    "    Kql = np.asmatrix(np.asarray(Kql))\n",
    "    f = np.asarray(f)\n",
    "    a = np.asarray(a)\n",
    "    \n",
    "    Kal = np.asmatrix(np.asarray(Kal))\n",
    "    for i,x in enumerate(dataset):\n",
    "        for j,y in enumerate(S):\n",
    "            Kal[i,j] = f_K(x,y)\n",
    "            \n",
    "    grad = zeros(1, Kal.shape[0])\n",
    "    for i in range(0, Kal.shape[0]):\n",
    "        grad(i) = Kal[i,i]*np.exp(sum(Kal*a))/(1+np.exp(sum(Kal*a)))\n",
    "        \n",
    "    return -Kal.T*y + lamda*Kql*a + grad\n"
   ]
  },
  {
   "cell_type": "code",
   "execution_count": null,
   "metadata": {
    "collapsed": true
   },
   "outputs": [],
   "source": []
  }
 ],
 "metadata": {
  "kernelspec": {
   "display_name": "Python 2",
   "language": "python",
   "name": "python2"
  },
  "language_info": {
   "codemirror_mode": {
    "name": "ipython",
    "version": 2
   },
   "file_extension": ".py",
   "mimetype": "text/x-python",
   "name": "python",
   "nbconvert_exporter": "python",
   "pygments_lexer": "ipython2",
   "version": "2.7.11"
  }
 },
 "nbformat": 4,
 "nbformat_minor": 0
}
